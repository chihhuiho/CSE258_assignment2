{
 "cells": [
  {
   "cell_type": "code",
   "execution_count": 6,
   "metadata": {
    "ExecuteTime": {
     "end_time": "2018-12-03T05:15:13.391047Z",
     "start_time": "2018-12-03T05:15:08.427106Z"
    }
   },
   "outputs": [],
   "source": [
    "import pandas as pd\n",
    "from tqdm import tqdm_notebook as tqdm\n",
    "import pickle\n",
    "import random\n",
    "import numpy as np\n",
    "import datetime\n",
    "import time\n",
    "import torch"
   ]
  },
  {
   "cell_type": "code",
   "execution_count": 2,
   "metadata": {
    "ExecuteTime": {
     "end_time": "2018-12-03T05:09:29.338211Z",
     "start_time": "2018-12-03T05:08:40.417012Z"
    }
   },
   "outputs": [],
   "source": [
    "historical_transactions = pd.read_csv(\"dataset/historical_transactions.csv\")"
   ]
  },
  {
   "cell_type": "code",
   "execution_count": 8,
   "metadata": {
    "ExecuteTime": {
     "end_time": "2018-12-03T05:16:08.443754Z",
     "start_time": "2018-12-03T05:16:08.065863Z"
    }
   },
   "outputs": [],
   "source": [
    "history = {}"
   ]
  },
  {
   "cell_type": "code",
   "execution_count": 9,
   "metadata": {
    "ExecuteTime": {
     "end_time": "2018-12-03T06:19:50.561313Z",
     "start_time": "2018-12-03T05:16:09.653473Z"
    }
   },
   "outputs": [
    {
     "data": {
      "application/vnd.jupyter.widget-view+json": {
       "model_id": "4a8f6e53a62d4b5e898551fb9673cbdf",
       "version_major": 2,
       "version_minor": 0
      },
      "text/html": [
       "<p>Failed to display Jupyter Widget of type <code>HBox</code>.</p>\n",
       "<p>\n",
       "  If you're reading this message in the Jupyter Notebook or JupyterLab Notebook, it may mean\n",
       "  that the widgets JavaScript is still loading. If this message persists, it\n",
       "  likely means that the widgets JavaScript library is either not installed or\n",
       "  not enabled. See the <a href=\"https://ipywidgets.readthedocs.io/en/stable/user_install.html\">Jupyter\n",
       "  Widgets Documentation</a> for setup instructions.\n",
       "</p>\n",
       "<p>\n",
       "  If you're reading this message in another frontend (for example, a static\n",
       "  rendering on GitHub or <a href=\"https://nbviewer.jupyter.org/\">NBViewer</a>),\n",
       "  it may mean that your frontend doesn't currently support widgets.\n",
       "</p>\n"
      ],
      "text/plain": [
       "HBox(children=(IntProgress(value=0, max=29112361), HTML(value=u'')))"
      ]
     },
     "metadata": {},
     "output_type": "display_data"
    }
   ],
   "source": [
    "pbar = tqdm(total=len(historical_transactions))\n",
    "for index, row in historical_transactions.iterrows():\n",
    "    key = (row['card_id'], row['merchant_id'])\n",
    "    if key not in history:\n",
    "        history[key] = (None, None)\n",
    "    purchase_date = datetime.datetime.strptime(row['purchase_date'], '%Y-%m-%d %H:%M:%S')\n",
    "    if history[key][0] is None or purchase_date < history[key][0]:\n",
    "        history[key] = (purchase_date, history[key][0])\n",
    "    elif history[key][1] is None or purchase_date < history[key][1]:\n",
    "        history[key] = (history[key][0], purchase_date)\n",
    "    pbar.update(1)\n",
    "pbar.close()"
   ]
  },
  {
   "cell_type": "code",
   "execution_count": 118,
   "metadata": {
    "ExecuteTime": {
     "end_time": "2018-12-03T08:07:10.787842Z",
     "start_time": "2018-12-03T08:06:32.404916Z"
    }
   },
   "outputs": [
    {
     "name": "stdout",
     "output_type": "stream",
     "text": [
      "Processing...\n"
     ]
    }
   ],
   "source": [
    "print 'Processing...'\n",
    "data = [(d[0], d[1], (time.mktime(history[d][1].timetuple())-time.mktime(history[d][0].timetuple()))/1000000.0) for d in history if history[d][1] is not None]\n",
    "random.shuffle(data)\n",
    "train, test = data[:-1000], data[-1000:]"
   ]
  },
  {
   "cell_type": "code",
   "execution_count": 121,
   "metadata": {
    "ExecuteTime": {
     "end_time": "2018-12-03T08:08:10.036087Z",
     "start_time": "2018-12-03T08:08:10.014730Z"
    }
   },
   "outputs": [],
   "source": [
    "dim = 64\n",
    "class embedding(torch.nn.Module):\n",
    "    def __init__(self, user_size, item_size):\n",
    "        super(embedding, self).__init__()\n",
    "        self.embeddings = torch.nn.Embedding(user_size, dim)\n",
    "        self.embeddings2 = torch.nn.Embedding(item_size, dim)\n",
    "        self.linear1 = torch.nn.Linear(dim*2, 32)\n",
    "        self.linear2 = torch.nn.Linear(32, 1)\n",
    "    def forward(self, inputs, item):\n",
    "        inputs = self.embeddings(inputs)\n",
    "        item = self.embeddings2(item)\n",
    "        inputs = torch.cat((inputs, item), -1)\n",
    "        inputs = torch.nn.functional.relu(self.linear1(inputs))\n",
    "        out = self.linear2(inputs)\n",
    "        return out"
   ]
  },
  {
   "cell_type": "code",
   "execution_count": 122,
   "metadata": {
    "ExecuteTime": {
     "end_time": "2018-12-03T08:08:17.372347Z",
     "start_time": "2018-12-03T08:08:12.695143Z"
    }
   },
   "outputs": [],
   "source": [
    "maps, map_i, count, count2 = {}, {}, 0, 0\n",
    "for i in range(len(data)):\n",
    "    if data[i][0] not in maps:\n",
    "        maps[data[i][0]] = count\n",
    "        count += 1\n",
    "    if data[i][1] not in map_i:\n",
    "        map_i[data[i][1]] = count2\n",
    "        count2 += 1\n",
    "model = embedding(count, count2)\n",
    "loss_function = torch.nn.MSELoss()\n",
    "optimizer = torch.optim.SGD(model.parameters(), lr=0.001)"
   ]
  },
  {
   "cell_type": "code",
   "execution_count": 125,
   "metadata": {
    "ExecuteTime": {
     "end_time": "2018-12-03T08:24:40.273293Z",
     "start_time": "2018-12-03T08:23:57.626591Z"
    }
   },
   "outputs": [
    {
     "name": "stdout",
     "output_type": "stream",
     "text": [
      "MSE:  32.9577265625\n",
      "MSE:  32.959703125\n"
     ]
    }
   ],
   "source": [
    "prev_MSE = 10**20\n",
    "B = 1000\n",
    "model = model.cuda()\n",
    "while True:\n",
    "    model.train()\n",
    "    idx = 0\n",
    "    while idx < len(train):\n",
    "        batch = train[idx:idx+B]\n",
    "        optimizer.zero_grad()\n",
    "        x = [maps[u] for u, i, r in batch]\n",
    "        x = torch.Tensor([x]).long()\n",
    "        x = torch.autograd.Variable(x).cuda()\n",
    "        x2 = [map_i[i] for u, i, r in batch]\n",
    "        x2 = torch.Tensor([x2]).long()\n",
    "        x2 = torch.autograd.Variable(x2).cuda()\n",
    "        r = torch.Tensor([r for u, i, r in batch]).cuda()\n",
    "        #r = torch.autograd.Variable(r)\n",
    "        y = model(x, x2)\n",
    "        loss = loss_function(y.view(-1), r)\n",
    "        loss.backward()\n",
    "        optimizer.step()\n",
    "        idx += B\n",
    "        \n",
    "    model.eval()\n",
    "    MSE = 0\n",
    "    for u, i, r in test:\n",
    "        x = maps[u]\n",
    "        x = torch.Tensor([x]).long()\n",
    "        x = torch.autograd.Variable(x).cuda()\n",
    "        x2 = map_i[i]\n",
    "        x2 = torch.Tensor([x2]).long()\n",
    "        x2 = torch.autograd.Variable(x2).cuda()\n",
    "        #r = torch.autograd.Variable(r)\n",
    "        y = model(x, x2) \n",
    "        MSE += (y.view(-1).cpu().data - r)**2\n",
    "    MSE = float(MSE) / len(test)\n",
    "    print 'MSE: ', MSE\n",
    "    if MSE > prev_MSE:\n",
    "        break\n",
    "    prev_MSE = MSE"
   ]
  },
  {
   "cell_type": "markdown",
   "metadata": {},
   "source": [
    "# Loyalty"
   ]
  },
  {
   "cell_type": "code",
   "execution_count": 52,
   "metadata": {
    "ExecuteTime": {
     "end_time": "2018-12-03T07:41:19.761619Z",
     "start_time": "2018-12-03T07:41:19.480749Z"
    }
   },
   "outputs": [],
   "source": [
    "trainset = pd.read_csv('dataset/train.csv')"
   ]
  },
  {
   "cell_type": "code",
   "execution_count": 103,
   "metadata": {
    "ExecuteTime": {
     "end_time": "2018-12-03T07:53:23.166163Z",
     "start_time": "2018-12-03T07:53:23.148500Z"
    }
   },
   "outputs": [],
   "source": [
    "dim = 64\n",
    "class loyalty(torch.nn.Module):\n",
    "    def __init__(self, emb):\n",
    "        super(loyalty, self).__init__()\n",
    "        self.embeddings = emb\n",
    "        self.linear1 = torch.nn.Linear(dim+3, 32)\n",
    "        self.linear2 = torch.nn.Linear(32, 1)\n",
    "    def forward(self, inputs, features):\n",
    "        inputs = self.embeddings(inputs)\n",
    "#        print inputs.shape, features.shape\n",
    "        inputs = torch.cat((inputs, features), 2)\n",
    "        inputs = torch.nn.functional.relu(self.linear1(inputs))\n",
    "        out = self.linear2(inputs)\n",
    "        return out"
   ]
  },
  {
   "cell_type": "code",
   "execution_count": 104,
   "metadata": {
    "ExecuteTime": {
     "end_time": "2018-12-03T07:53:23.743965Z",
     "start_time": "2018-12-03T07:53:23.735852Z"
    }
   },
   "outputs": [],
   "source": [
    "model2 = loyalty(model.embeddings)\n",
    "loss_function = torch.nn.MSELoss()\n",
    "optimizer = torch.optim.SGD(model2.parameters(), lr=0.001)"
   ]
  },
  {
   "cell_type": "code",
   "execution_count": 97,
   "metadata": {
    "ExecuteTime": {
     "end_time": "2018-12-03T07:52:07.163823Z",
     "start_time": "2018-12-03T07:51:58.852543Z"
    }
   },
   "outputs": [
    {
     "name": "stdout",
     "output_type": "stream",
     "text": [
      "Processing...\n"
     ]
    }
   ],
   "source": [
    "print 'Processing...'\n",
    "data = [(d['card_id'], [d['feature_1'], d['feature_2'], d['feature_3']], d['target']) for d in trainset.to_dict(orient='records')]\n",
    "random.shuffle(data)\n",
    "train, test = data[:-1000], data[-1000:]"
   ]
  },
  {
   "cell_type": "code",
   "execution_count": 113,
   "metadata": {
    "ExecuteTime": {
     "end_time": "2018-12-03T07:59:56.262212Z",
     "start_time": "2018-12-03T07:59:53.075375Z"
    }
   },
   "outputs": [
    {
     "name": "stdout",
     "output_type": "stream",
     "text": [
      "RMSE:  3.8272846016301165\n",
      "RMSE:  3.827471117624534\n"
     ]
    }
   ],
   "source": [
    "prev_MSE = 10**20\n",
    "B = 1000\n",
    "model2 = model2.cuda()\n",
    "while True:\n",
    "    model2.train()\n",
    "    idx = 0\n",
    "    while idx < len(train):\n",
    "        batch = train[idx:idx+B]\n",
    "        optimizer.zero_grad()\n",
    "        x = [maps[u] for u, fts, r in batch if u in maps]\n",
    "        x = torch.Tensor([x]).long()\n",
    "        x = torch.autograd.Variable(x).cuda()\n",
    "        ft = [fts for u, fts, r in batch if u in maps]\n",
    "        ft = torch.Tensor([ft])\n",
    "        ft = torch.autograd.Variable(ft).cuda()\n",
    "        r = torch.Tensor([r for u, fts, r in batch if u in maps]).cuda()\n",
    "        #r = torch.autograd.Variable(r)\n",
    "        y = model2(x, ft)\n",
    "        loss = loss_function(y.view(-1), r)\n",
    "        loss.backward()\n",
    "        optimizer.step()\n",
    "        idx += B\n",
    "        \n",
    "    model2.eval()\n",
    "    MSE = 0\n",
    "    for u, fts, r in test:\n",
    "        if u not in maps:\n",
    "            continue\n",
    "        x = maps[u]\n",
    "        x = torch.Tensor([[x]]).long()\n",
    "        x = torch.autograd.Variable(x).cuda()\n",
    "        ft = torch.Tensor([[fts]])\n",
    "        ft = torch.autograd.Variable(ft).cuda()\n",
    "        #r = torch.autograd.Variable(r)\n",
    "        y = model2(x, ft) \n",
    "        MSE += (y.view(-1).cpu().data - r)**2\n",
    "    MSE = float(MSE) / len(test)\n",
    "    print 'RMSE: ', np.sqrt(MSE)\n",
    "    if MSE > prev_MSE:\n",
    "        break\n",
    "    prev_MSE = MSE"
   ]
  },
  {
   "cell_type": "markdown",
   "metadata": {},
   "source": [
    "# Submission"
   ]
  },
  {
   "cell_type": "code",
   "execution_count": 111,
   "metadata": {
    "ExecuteTime": {
     "end_time": "2018-12-03T07:59:11.415291Z",
     "start_time": "2018-12-03T07:58:28.630587Z"
    }
   },
   "outputs": [],
   "source": [
    "testset, pred = pd.read_csv('dataset/test.csv'), []\n",
    "for idx,row in enumerate(testset.to_dict(orient='records')):\n",
    "    model2.eval()\n",
    "    u, ft = row['card_id'], [row['feature_1'], row['feature_2'], row['feature_3']]\n",
    "    if u not in maps:\n",
    "        pred.append(0)\n",
    "        continue\n",
    "    x = maps[u]\n",
    "    x = torch.Tensor([[x]]).long()\n",
    "    x = torch.autograd.Variable(x).cuda()\n",
    "    ft = torch.Tensor([[fts]])\n",
    "    ft = torch.autograd.Variable(ft).cuda()\n",
    "    #r = torch.autograd.Variable(r)\n",
    "    y = model2(x, ft) \n",
    "    y = float(y.view(-1).cpu().data)\n",
    "    pred.append(y)\n",
    "df_sub = pd.DataFrame({\"card_id\":testset[\"card_id\"].values})\n",
    "df_sub[\"target\"] = pred\n",
    "df_sub.to_csv(\"submission.csv\", index=False)"
   ]
  },
  {
   "cell_type": "code",
   "execution_count": 114,
   "metadata": {
    "ExecuteTime": {
     "end_time": "2018-12-03T08:00:08.229839Z",
     "start_time": "2018-12-03T08:00:08.204131Z"
    }
   },
   "outputs": [
    {
     "data": {
      "text/plain": [
       "-0.3762698570282051"
      ]
     },
     "execution_count": 114,
     "metadata": {},
     "output_type": "execute_result"
    }
   ],
   "source": [
    "np.mean(pred)"
   ]
  },
  {
   "cell_type": "code",
   "execution_count": null,
   "metadata": {},
   "outputs": [],
   "source": []
  }
 ],
 "metadata": {
  "kernelspec": {
   "display_name": "Python 2",
   "language": "python",
   "name": "python2"
  },
  "language_info": {
   "codemirror_mode": {
    "name": "ipython",
    "version": 2
   },
   "file_extension": ".py",
   "mimetype": "text/x-python",
   "name": "python",
   "nbconvert_exporter": "python",
   "pygments_lexer": "ipython2",
   "version": "2.7.14"
  }
 },
 "nbformat": 4,
 "nbformat_minor": 2
}
